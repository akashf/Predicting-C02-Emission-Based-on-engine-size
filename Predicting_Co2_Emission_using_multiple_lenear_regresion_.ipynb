{
  "nbformat": 4,
  "nbformat_minor": 0,
  "metadata": {
    "colab": {
      "name": "Predicting  Co2 Emission using multiple lenear regresion .ipynb  ",
      "provenance": [],
      "collapsed_sections": [],
      "authorship_tag": "ABX9TyMulpp456FTa00Ixq9KTLtT",
      "include_colab_link": true
    },
    "kernelspec": {
      "name": "python3",
      "display_name": "Python 3"
    }
  },
  "cells": [
    {
      "cell_type": "markdown",
      "metadata": {
        "id": "view-in-github",
        "colab_type": "text"
      },
      "source": [
        "<a href=\"https://colab.research.google.com/github/akashf/Predicting-C02-Emission-Based-on-engine-size/blob/master/Predicting_Co2_Emission_using_multiple_lenear_regresion_.ipynb\" target=\"_parent\"><img src=\"https://colab.research.google.com/assets/colab-badge.svg\" alt=\"Open In Colab\"/></a>"
      ]
    },
    {
      "cell_type": "markdown",
      "metadata": {
        "id": "teCU4hkreIea",
        "colab_type": "text"
      },
      "source": [
        "<h1><center>Multiple Linear Regression</center></h1>\n",
        "\n",
        "<h4>About this Notebook</h4>\n",
        "In this notebook, we learn how to use scikit-learn to implement Multiple linear regression. We download a dataset that is related to fuel consumption and Carbon dioxide emission of cars. Then, we split our data into training and test sets, create a model using training set, Evaluate your model using test set, and finally use model to predict unknown value\n"
      ]
    },
    {
      "cell_type": "code",
      "metadata": {
        "id": "EhdgrGpGeGw_",
        "colab_type": "code",
        "colab": {}
      },
      "source": [
        "import matplotlib.pyplot as plt\n",
        "import pandas as pd\n",
        "import numpy as np\n",
        "import pylab as pl\n",
        "%matplotlib inline"
      ],
      "execution_count": 0,
      "outputs": []
    },
    {
      "cell_type": "code",
      "metadata": {
        "id": "-PFyUcyVePr6",
        "colab_type": "code",
        "colab": {}
      },
      "source": [
        ""
      ],
      "execution_count": 0,
      "outputs": []
    }
  ]
}
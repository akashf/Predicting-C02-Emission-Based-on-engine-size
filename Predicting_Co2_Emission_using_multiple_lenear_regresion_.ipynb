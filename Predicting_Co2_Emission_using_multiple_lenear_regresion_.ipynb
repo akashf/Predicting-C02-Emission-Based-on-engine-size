{
  "nbformat": 4,
  "nbformat_minor": 0,
  "metadata": {
    "colab": {
      "name": "Predicting  Co2 Emission using multiple lenear regresion .ipynb  ",
      "provenance": [],
      "authorship_tag": "ABX9TyNwLNBJQQDoYiIaM3RTPnE8",
      "include_colab_link": true
    },
    "kernelspec": {
      "name": "python3",
      "display_name": "Python 3"
    }
  },
  "cells": [
    {
      "cell_type": "markdown",
      "metadata": {
        "id": "view-in-github",
        "colab_type": "text"
      },
      "source": [
        "<a href=\"https://colab.research.google.com/github/akashf/Predicting-C02-Emission-Based-on-engine-size/blob/master/Predicting_Co2_Emission_using_multiple_lenear_regresion_.ipynb\" target=\"_parent\"><img src=\"https://colab.research.google.com/assets/colab-badge.svg\" alt=\"Open In Colab\"/></a>"
      ]
    },
    {
      "cell_type": "code",
      "metadata": {
        "id": "TPGfmo0SdFum",
        "colab_type": "code",
        "colab": {}
      },
      "source": [
        ""
      ],
      "execution_count": 0,
      "outputs": []
    }
  ]
}